{
 "cells": [
  {
   "cell_type": "code",
   "execution_count": null,
   "metadata": {},
   "outputs": [],
   "source": [
    "# Module Import(s)\n",
    "import matplotlib.pyplot as plt\n",
    "# Variable(s)\n",
    "sectors = [\"Healthcare\", \"Social Protection\", \"Civil Security\", \"Education\", \"National Defence\", \"Other\"]\n",
    "sectors2 = [\"H\", \"SP\", \"CS\", \"E\", \"ND\", \"O\"]\n",
    "# Total = 2,000BN (2T)\n",
    "figures = [200, 200, 200, 200, 500, 700]\n",
    "colors = [\"red\", \"blue\", \"purple\", \"grey\", \"green\", \"black\"]\n",
    "# Dark Background\n",
    "plt.style.use(\"dark_background\")\n",
    "# Creating Pie Chart\n",
    "plt.pie(figures, autopct=\"%2.f%%\", colors=colors)\n",
    "plt.title(\"Country Z | Government Budget 2025\")\n",
    "# Legend\n",
    "plt.legend(sectors, loc=\"upper right\")\n",
    "# showing Data\n",
    "plt.show()"
   ]
  }
 ],
 "metadata": {
  "kernelspec": {
   "display_name": "Python 3",
   "language": "python",
   "name": "python3"
  },
  "language_info": {
   "codemirror_mode": {
    "name": "ipython",
    "version": 3
   },
   "file_extension": ".py",
   "mimetype": "text/x-python",
   "name": "python",
   "nbconvert_exporter": "python",
   "pygments_lexer": "ipython3",
   "version": "3.11.4"
  }
 },
 "nbformat": 4,
 "nbformat_minor": 2
}
